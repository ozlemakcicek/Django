{
 "cells": [
  {
   "cell_type": "code",
   "execution_count": 59,
   "metadata": {},
   "outputs": [
    {
     "name": "stdout",
     "output_type": "stream",
     "text": [
      "[3]\n",
      "[3, 7]\n",
      "[3]\n",
      "[3, 4]\n",
      "[3, 8]\n",
      "[3, 8, -3]\n",
      "[3, 5]\n",
      "[3, 7, 5]\n",
      "[3, 12]\n",
      "15\n"
     ]
    }
   ],
   "source": [
    "ops=[]\n",
    "\n",
    "#ops=[\"3\",\"7\",\"C\",\"4\",\"D\",\"-3\",\"+\",\"7\",\"+\"]\n",
    "\n",
    "ops.append(3)\n",
    "print(ops)\n",
    "\n",
    "ops.append(7)\n",
    "print(ops)\n",
    "\n",
    "#! C\n",
    "ops.pop()\n",
    "print(ops)\n",
    "\n",
    "ops.append(4)\n",
    "print(ops)\n",
    "\n",
    "\n",
    "#! D\n",
    "def double_ops(ops):\n",
    "   \n",
    "    return ops[0],ops[-1]*2\n",
    "\n",
    "new_ops=double_ops(ops)\n",
    "\n",
    "ops=list(new_ops)\n",
    "print(ops)\n",
    "\n",
    "\n",
    "#!\n",
    "ops.append(-3)\n",
    "print(ops)\n",
    "\n",
    "#! +\n",
    "def combine_ops(ops):\n",
    "    first_item=ops[0]\n",
    "\n",
    "    sum_two_items=ops[-1]+ops[-2]\n",
    "\n",
    "    combined_list=[first_item,sum_two_items]\n",
    "\n",
    "    return combined_list\n",
    "\n",
    "result=combine_ops(ops)\n",
    "print(result)\n",
    "\n",
    "#! 7\n",
    "result.insert(1,7)\n",
    "print(result)\n",
    "\n",
    "\n",
    "#! +\n",
    "def neu_combine_ops(result):\n",
    "    first_item=result[0]\n",
    "    second_item=result[-1]+ result[-2]\n",
    "\n",
    "    neu_combined_list=[first_item,second_item]\n",
    "\n",
    "    return neu_combined_list\n",
    "\n",
    "\n",
    "result=neu_combine_ops(result)\n",
    "print(result)\n",
    "\n",
    "\n",
    "sum_result=sum(result)\n",
    "print(sum_result)"
   ]
  }
 ],
 "metadata": {
  "kernelspec": {
   "display_name": "Python 3",
   "language": "python",
   "name": "python3"
  },
  "language_info": {
   "codemirror_mode": {
    "name": "ipython",
    "version": 3
   },
   "file_extension": ".py",
   "mimetype": "text/x-python",
   "name": "python",
   "nbconvert_exporter": "python",
   "pygments_lexer": "ipython3",
   "version": "3.11.1"
  },
  "orig_nbformat": 4
 },
 "nbformat": 4,
 "nbformat_minor": 2
}
