{
 "cells": [
  {
   "cell_type": "code",
   "execution_count": 3,
   "metadata": {},
   "outputs": [
    {
     "data": {
      "text/plain": [
       "5"
      ]
     },
     "execution_count": 3,
     "metadata": {},
     "output_type": "execute_result"
    }
   ],
   "source": [
    "# this is comment line\n",
    "\n",
    "'''this is multi line comment'''\n",
    "\n",
    "a=\"clarusway\"\n",
    "\n",
    "\n",
    "b=\"django is python\\\"s framework\"\n",
    "b=\"django is python's framework\"\n",
    "\n",
    "# sie haben gleiche Meinung.  \\ ist escape charakter.\n",
    "\n",
    "# for i in range(10)\n",
    "#bu sekilde donguye girmissin demektir\n",
    "\n",
    "# 4 tab taste ode space macht indentation\n",
    "\n",
    "2+3 #5\n",
    "# bu sekilde matematiksel ifadelerin sonucunu hemen verir"
   ]
  },
  {
   "cell_type": "code",
   "execution_count": 24,
   "metadata": {},
   "outputs": [
    {
     "name": "stdout",
     "output_type": "stream",
     "text": [
      "28\n",
      "e\n",
      "ello\n",
      "Hello,World!\n",
      "Hello,World!\n",
      "!dlroW,olleH\n",
      "Hell\n",
      "o,World!\n",
      "HELLO,WORLD!\n",
      "hello,world!\n",
      "Hello,World!\n",
      "Hello,world!\n",
      "['Hello,World!']\n",
      "ello,World!\n",
      "['Hello,World!']\n"
     ]
    }
   ],
   "source": [
    "## STRING IFADELER\n",
    "\n",
    "a=\"Hello,World!\"\n",
    "print(len(b)) #28\n",
    "\n",
    "# bloklar arasinda baglanti var.ustteki b nin len ini verdi\n",
    "\n",
    "print(a[1])  #e\n",
    "# istedigin indis e ulasablrsin \n",
    "\n",
    "print(a[1:5])  #ello\n",
    "# aralik alablrsn\n",
    "\n",
    "\n",
    "print(a[:])  #Hello,World!\n",
    "print(a[::])\n",
    "#hepsini verir\n",
    "\n",
    "print(a[::-1])  #!dlroW,olleH\n",
    "# tersten verir\n",
    "\n",
    "print(a[:4])  #Hell\n",
    "\n",
    "print(a[4:]) #o,World!\n",
    "\n",
    "print(a.upper())  #HELLO,WORLD!\n",
    "print(a.lower())  #hello,world!\n",
    "print(a.title())  #Hello,World!\n",
    "print(a.capitalize())  #Hello,world!\n",
    "print(a.split())  #['Hello,World!']\n",
    "print(a.strip(\"H\"))  #ello,World!\n",
    "\n",
    "\n"
   ]
  },
  {
   "cell_type": "code",
   "execution_count": 28,
   "metadata": {},
   "outputs": [
    {
     "name": "stdout",
     "output_type": "stream",
     "text": [
      "True\n",
      "False\n"
     ]
    }
   ],
   "source": [
    "# INTEGER IFADELER\n",
    "\n",
    "15%2 # kalani verir\n",
    "\n",
    "#Boolean ifadeler\n",
    "# buyuk harfle yazilir\n",
    "\n",
    "True \n",
    "False\n",
    "\n",
    "print(3==3)\n",
    "print(3!=3)\n",
    "\n",
    "\n"
   ]
  },
  {
   "cell_type": "code",
   "execution_count": 29,
   "metadata": {},
   "outputs": [
    {
     "name": "stdout",
     "output_type": "stream",
     "text": [
      "True\n"
     ]
    }
   ],
   "source": [
    "#LOGICAL OPERATORLER\n",
    "\n",
    "# not and or seklinde siralama\n",
    "\n",
    "print(9>7) and (2<4)"
   ]
  },
  {
   "cell_type": "code",
   "execution_count": null,
   "metadata": {},
   "outputs": [],
   "source": [
    "#Collection Data Types\n",
    "\n",
    "#List [] : her turlu veriyi icerir\n",
    "#  Dictionary {key:value}  : index ile itemlarina ulasamayiz.key ismini [] icinde yazarak value ya ulasiriz.print(thisdict[\"brand\"]).eger o key yoksa keyerror hatasi verir.o yuzden .get(\"key\") yapabiliriz ki error almayiz ve devam ederiz.hata varsa mesaj versin istersek yanina yazablrz parantez icinde thisdict.get(\"bran\", \"There is no such a key!\")  # There is no such a key!.\n",
    "# ama bazi onemli yerlerde hata almamiz daha guvenli patlasinki yanlis islem olmasin\n",
    "# pop ile elemani cikariiz.key yazarak.popitem ise en sondakini cikartir.del ile de key i cikariirz fakat bu digerlerinden farkli yazilir.basa yazilir.del thisdict[\"model\"].digerleri normal method seklinde isimden sonra yazilir.clear da method gibi yazilir ve butun dict i temizler\n",
    "# eklemek icin keys() veya values() methodlari kullanilir\n",
    "# Tuple():tek eleman varsa sonuna , koyuyoruzki type ni tuple oplarak algilasin yoksa string der.(thistuple=(\"apple\",)).elemanlari degistirilemez oyuzden 2 methodu var.count ve index methodu.iki tuple birlestrmek icin + operatoru kullanilir\n",
    "# Set {} : mathematikdeki kumelere benzer.sirali degil.add() methodu ile eleman ekleriz.remove() ile de cikartma yapablrz.ama hata verir eger o eleman yoksa.discard() methodu ise hata firlatmaz yoksa o eleman\n",
    "# difference() ile iki vy daha fazla set in farkini bulablrz\n",
    "\n",
    "#sirali olmasi bize indexleyebilmeyi saglar\n",
    "# listelerde append(), set lerde add(), dict lerde keys() values() methodlari ile eleman eklyrz.tuple da ise elemanlari degsitrlmdgi icin ekleme cikartma yapilmyr\n",
    "\n",
    "\n"
   ]
  }
 ],
 "metadata": {
  "kernelspec": {
   "display_name": "Python 3",
   "language": "python",
   "name": "python3"
  },
  "language_info": {
   "codemirror_mode": {
    "name": "ipython",
    "version": 3
   },
   "file_extension": ".py",
   "mimetype": "text/x-python",
   "name": "python",
   "nbconvert_exporter": "python",
   "pygments_lexer": "ipython3",
   "version": "3.11.1"
  },
  "orig_nbformat": 4
 },
 "nbformat": 4,
 "nbformat_minor": 2
}
